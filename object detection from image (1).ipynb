{
 "cells": [
  {
   "cell_type": "code",
   "execution_count": 26,
   "id": "37e2c822",
   "metadata": {},
   "outputs": [
    {
     "name": "stdout",
     "output_type": "stream",
     "text": [
      "In the image, I found the following objects: 1 banana, 5 apple, 4 orange\n",
      "Summary: In the image, I found the following objects: 1 banana, 5 apple, 4 orange\n"
     ]
    }
   ],
   "source": [
    "import cv2\n",
    "import cvlib as cv\n",
    "from cvlib.object_detection import draw_bbox\n",
    "import pyttsx3\n",
    "\n",
    "def speak(text):\n",
    "  print(text)\n",
    "  engine = pyttsx3.init()\n",
    "  engine.say(text)\n",
    "  engine.runAndWait()\n",
    "\n",
    "def summarize_objects(detected_objects):\n",
    "  object_counts = {}\n",
    "  for item in detected_objects:\n",
    "    object_counts[item] = object_counts.get(item, 0) + 1\n",
    "  summary_text = \"In the image, I found the following objects: \" + \", \".join([f\"{count} {item}\" for item, count in object_counts.items()])\n",
    "  return summary_text\n",
    "\n",
    "# Replace 'path/to/your/image.jpg' with your image path\n",
    "image_path = \"filepath/image/1.jpg\"  # Adjust the path accordingly\n",
    "\n",
    "# Read the image\n",
    "image = cv2.imread(image_path)\n",
    "\n",
    "# Detect common objects in the image\n",
    "bbox, label, conf = cv.detect_common_objects(image, confidence=0.5)\n",
    "\n",
    "# Convert labels to a list to use 'count' method\n",
    "detected_objects = list(label)  # Convert set to list for counting\n",
    "\n",
    "output_image = draw_bbox(image.copy(), bbox, label, conf)\n",
    "cv2.imshow(\"Detection\", output_image)\n",
    "cv2.waitKey(0)  # Wait for a key press to close the window\n",
    "\n",
    "# Generate speech summary\n",
    "summary_text = summarize_objects(detected_objects)\n",
    "speak(summary_text)\n",
    "\n",
    "print(\"Summary:\", summary_text)\n",
    "\n",
    "cv2.destroyAllWindows()"
   ]
  },
  {
   "cell_type": "code",
   "execution_count": null,
   "id": "b597793d",
   "metadata": {},
   "outputs": [],
   "source": []
  }
 ],
 "metadata": {
  "kernelspec": {
   "display_name": "Python 3 (ipykernel)",
   "language": "python",
   "name": "python3"
  },
  "language_info": {
   "codemirror_mode": {
    "name": "ipython",
    "version": 3
   },
   "file_extension": ".py",
   "mimetype": "text/x-python",
   "name": "python",
   "nbconvert_exporter": "python",
   "pygments_lexer": "ipython3",
   "version": "3.10.9"
  }
 },
 "nbformat": 4,
 "nbformat_minor": 5
}
